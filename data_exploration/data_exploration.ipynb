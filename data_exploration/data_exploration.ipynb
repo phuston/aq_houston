{
 "cells": [
  {
   "cell_type": "markdown",
   "metadata": {},
   "source": [
    "# Houston Air Quality Data Exploration\n",
    "____________________\n",
    "### Patrick Huston, Ezra Varday, Charlie Owen | FA 2017\n",
    "\n",
    "This notebook presents an initial exploration into the EPA air monitoring data for the Park Place AQ monitoring site in Houston, Texas.\n",
    "\n",
    "##### Motivating Questions:\n",
    "- What does air quality look like on an average day in Houston? \n",
    "- What are the seasonal dynamics of AQ in Houston? \n",
    "- Etc."
   ]
  },
  {
   "cell_type": "code",
   "execution_count": 2,
   "metadata": {},
   "outputs": [],
   "source": [
    "%matplotlib inline\n",
    "\n",
    "import numpy as np\n",
    "import pandas as pd\n",
    "from matplotlib import pyplot as plt\n",
    "import seaborn as sns\n",
    "\n",
    "import warnings; warnings.simplefilter('ignore')\n",
    "\n",
    "sns.set_style(\"darkgrid\")"
   ]
  },
  {
   "cell_type": "code",
   "execution_count": 3,
   "metadata": {},
   "outputs": [
    {
     "name": "stdout",
     "output_type": "stream",
     "text": [
      "\u001b[31m338120170929155414557.txt\u001b[m\u001b[m \u001b[31m338120170929160847395.txt\u001b[m\u001b[m\r\n"
     ]
    }
   ],
   "source": [
    "!ls ../data"
   ]
  },
  {
   "cell_type": "code",
   "execution_count": 4,
   "metadata": {},
   "outputs": [],
   "source": [
    "filename = \"../data/338120170929155414557.txt\""
   ]
  },
  {
   "cell_type": "code",
   "execution_count": 5,
   "metadata": {},
   "outputs": [
    {
     "data": {
      "text/html": [
       "<div>\n",
       "<style>\n",
       "    .dataframe thead tr:only-child th {\n",
       "        text-align: right;\n",
       "    }\n",
       "\n",
       "    .dataframe thead th {\n",
       "        text-align: left;\n",
       "    }\n",
       "\n",
       "    .dataframe tbody tr th {\n",
       "        vertical-align: top;\n",
       "    }\n",
       "</style>\n",
       "<table border=\"1\" class=\"dataframe\">\n",
       "  <thead>\n",
       "    <tr style=\"text-align: right;\">\n",
       "      <th></th>\n",
       "      <th>Datetime</th>\n",
       "      <th>Transaction Type</th>\n",
       "      <th>Action</th>\n",
       "      <th>State Cd</th>\n",
       "      <th>County Cd</th>\n",
       "      <th>Site ID</th>\n",
       "      <th>Parameter Cd</th>\n",
       "      <th>POC</th>\n",
       "      <th>Dur Cd</th>\n",
       "      <th>Unit Cd</th>\n",
       "      <th>Meth Cd</th>\n",
       "      <th>Value</th>\n",
       "    </tr>\n",
       "  </thead>\n",
       "  <tbody>\n",
       "    <tr>\n",
       "      <th>339573</th>\n",
       "      <td>2016-12-30 19:00:00</td>\n",
       "      <td>RD</td>\n",
       "      <td>I</td>\n",
       "      <td>48</td>\n",
       "      <td>201</td>\n",
       "      <td>416</td>\n",
       "      <td>64101</td>\n",
       "      <td>1</td>\n",
       "      <td>1</td>\n",
       "      <td>16</td>\n",
       "      <td>11</td>\n",
       "      <td>1020.89</td>\n",
       "    </tr>\n",
       "    <tr>\n",
       "      <th>339574</th>\n",
       "      <td>2016-12-30 20:00:00</td>\n",
       "      <td>RD</td>\n",
       "      <td>I</td>\n",
       "      <td>48</td>\n",
       "      <td>201</td>\n",
       "      <td>416</td>\n",
       "      <td>64101</td>\n",
       "      <td>1</td>\n",
       "      <td>1</td>\n",
       "      <td>16</td>\n",
       "      <td>11</td>\n",
       "      <td>1020.47</td>\n",
       "    </tr>\n",
       "    <tr>\n",
       "      <th>339575</th>\n",
       "      <td>2016-12-30 21:00:00</td>\n",
       "      <td>RD</td>\n",
       "      <td>I</td>\n",
       "      <td>48</td>\n",
       "      <td>201</td>\n",
       "      <td>416</td>\n",
       "      <td>64101</td>\n",
       "      <td>1</td>\n",
       "      <td>1</td>\n",
       "      <td>16</td>\n",
       "      <td>11</td>\n",
       "      <td>1019.77</td>\n",
       "    </tr>\n",
       "    <tr>\n",
       "      <th>339576</th>\n",
       "      <td>2016-12-30 22:00:00</td>\n",
       "      <td>RD</td>\n",
       "      <td>I</td>\n",
       "      <td>48</td>\n",
       "      <td>201</td>\n",
       "      <td>416</td>\n",
       "      <td>64101</td>\n",
       "      <td>1</td>\n",
       "      <td>1</td>\n",
       "      <td>16</td>\n",
       "      <td>11</td>\n",
       "      <td>1019.07</td>\n",
       "    </tr>\n",
       "    <tr>\n",
       "      <th>339577</th>\n",
       "      <td>2016-12-30 23:00:00</td>\n",
       "      <td>RD</td>\n",
       "      <td>I</td>\n",
       "      <td>48</td>\n",
       "      <td>201</td>\n",
       "      <td>416</td>\n",
       "      <td>64101</td>\n",
       "      <td>1</td>\n",
       "      <td>1</td>\n",
       "      <td>16</td>\n",
       "      <td>11</td>\n",
       "      <td>1018.31</td>\n",
       "    </tr>\n",
       "  </tbody>\n",
       "</table>\n",
       "</div>"
      ],
      "text/plain": [
       "                  Datetime Transaction Type Action  State Cd  County Cd  \\\n",
       "339573 2016-12-30 19:00:00               RD      I        48        201   \n",
       "339574 2016-12-30 20:00:00               RD      I        48        201   \n",
       "339575 2016-12-30 21:00:00               RD      I        48        201   \n",
       "339576 2016-12-30 22:00:00               RD      I        48        201   \n",
       "339577 2016-12-30 23:00:00               RD      I        48        201   \n",
       "\n",
       "        Site ID  Parameter Cd  POC  Dur Cd  Unit Cd  Meth Cd    Value  \n",
       "339573      416         64101    1       1       16       11  1020.89  \n",
       "339574      416         64101    1       1       16       11  1020.47  \n",
       "339575      416         64101    1       1       16       11  1019.77  \n",
       "339576      416         64101    1       1       16       11  1019.07  \n",
       "339577      416         64101    1       1       16       11  1018.31  "
      ]
     },
     "execution_count": 5,
     "metadata": {},
     "output_type": "execute_result"
    }
   ],
   "source": [
    "df1 = pd.read_csv(filename, skiprows=10, sep='|', usecols=range(13), parse_dates={\"Datetime\" : [10,11]})\n",
    "df1.tail()"
   ]
  },
  {
   "cell_type": "code",
   "execution_count": 98,
   "metadata": {},
   "outputs": [
    {
     "data": {
      "text/html": [
       "<div>\n",
       "<style>\n",
       "    .dataframe thead tr:only-child th {\n",
       "        text-align: right;\n",
       "    }\n",
       "\n",
       "    .dataframe thead th {\n",
       "        text-align: left;\n",
       "    }\n",
       "\n",
       "    .dataframe tbody tr th {\n",
       "        vertical-align: top;\n",
       "    }\n",
       "</style>\n",
       "<table border=\"1\" class=\"dataframe\">\n",
       "  <thead>\n",
       "    <tr style=\"text-align: right;\">\n",
       "      <th></th>\n",
       "      <th>Transaction Type</th>\n",
       "      <th>Action</th>\n",
       "      <th>State Cd</th>\n",
       "      <th>County Cd</th>\n",
       "      <th>Site ID</th>\n",
       "      <th>Parameter Cd</th>\n",
       "      <th>POC</th>\n",
       "      <th>Dur Cd</th>\n",
       "      <th>Unit Cd</th>\n",
       "      <th>Meth Cd</th>\n",
       "      <th>Value</th>\n",
       "    </tr>\n",
       "    <tr>\n",
       "      <th>Datetime</th>\n",
       "      <th></th>\n",
       "      <th></th>\n",
       "      <th></th>\n",
       "      <th></th>\n",
       "      <th></th>\n",
       "      <th></th>\n",
       "      <th></th>\n",
       "      <th></th>\n",
       "      <th></th>\n",
       "      <th></th>\n",
       "      <th></th>\n",
       "    </tr>\n",
       "  </thead>\n",
       "  <tbody>\n",
       "    <tr>\n",
       "      <th>2014-01-01 00:00:00</th>\n",
       "      <td>RD</td>\n",
       "      <td>I</td>\n",
       "      <td>48</td>\n",
       "      <td>201</td>\n",
       "      <td>416</td>\n",
       "      <td>42101</td>\n",
       "      <td>1</td>\n",
       "      <td>1</td>\n",
       "      <td>7</td>\n",
       "      <td>93</td>\n",
       "      <td>0.16339</td>\n",
       "    </tr>\n",
       "    <tr>\n",
       "      <th>2014-01-01 01:00:00</th>\n",
       "      <td>RD</td>\n",
       "      <td>I</td>\n",
       "      <td>48</td>\n",
       "      <td>201</td>\n",
       "      <td>416</td>\n",
       "      <td>42101</td>\n",
       "      <td>1</td>\n",
       "      <td>1</td>\n",
       "      <td>7</td>\n",
       "      <td>93</td>\n",
       "      <td>0.12578</td>\n",
       "    </tr>\n",
       "    <tr>\n",
       "      <th>2014-01-01 02:00:00</th>\n",
       "      <td>RD</td>\n",
       "      <td>I</td>\n",
       "      <td>48</td>\n",
       "      <td>201</td>\n",
       "      <td>416</td>\n",
       "      <td>42101</td>\n",
       "      <td>1</td>\n",
       "      <td>1</td>\n",
       "      <td>7</td>\n",
       "      <td>93</td>\n",
       "      <td>0.13623</td>\n",
       "    </tr>\n",
       "    <tr>\n",
       "      <th>2014-01-01 03:00:00</th>\n",
       "      <td>RD</td>\n",
       "      <td>I</td>\n",
       "      <td>48</td>\n",
       "      <td>201</td>\n",
       "      <td>416</td>\n",
       "      <td>42101</td>\n",
       "      <td>1</td>\n",
       "      <td>1</td>\n",
       "      <td>7</td>\n",
       "      <td>93</td>\n",
       "      <td>0.19557</td>\n",
       "    </tr>\n",
       "    <tr>\n",
       "      <th>2014-01-01 04:00:00</th>\n",
       "      <td>RD</td>\n",
       "      <td>I</td>\n",
       "      <td>48</td>\n",
       "      <td>201</td>\n",
       "      <td>416</td>\n",
       "      <td>42101</td>\n",
       "      <td>1</td>\n",
       "      <td>1</td>\n",
       "      <td>7</td>\n",
       "      <td>93</td>\n",
       "      <td>0.24864</td>\n",
       "    </tr>\n",
       "  </tbody>\n",
       "</table>\n",
       "</div>"
      ],
      "text/plain": [
       "                    Transaction Type Action  State Cd  County Cd  Site ID  \\\n",
       "Datetime                                                                    \n",
       "2014-01-01 00:00:00               RD      I        48        201      416   \n",
       "2014-01-01 01:00:00               RD      I        48        201      416   \n",
       "2014-01-01 02:00:00               RD      I        48        201      416   \n",
       "2014-01-01 03:00:00               RD      I        48        201      416   \n",
       "2014-01-01 04:00:00               RD      I        48        201      416   \n",
       "\n",
       "                     Parameter Cd  POC  Dur Cd  Unit Cd  Meth Cd    Value  \n",
       "Datetime                                                                   \n",
       "2014-01-01 00:00:00         42101    1       1        7       93  0.16339  \n",
       "2014-01-01 01:00:00         42101    1       1        7       93  0.12578  \n",
       "2014-01-01 02:00:00         42101    1       1        7       93  0.13623  \n",
       "2014-01-01 03:00:00         42101    1       1        7       93  0.19557  \n",
       "2014-01-01 04:00:00         42101    1       1        7       93  0.24864  "
      ]
     },
     "execution_count": 98,
     "metadata": {},
     "output_type": "execute_result"
    }
   ],
   "source": [
    "df1.set_index('Datetime').head()"
   ]
  },
  {
   "cell_type": "markdown",
   "metadata": {},
   "source": [
    "### Parameter Breakdown\n",
    "\n",
    "| Parameter Code | Meaning                    | Unit Code | Unit        |\n",
    "|----------------|----------------------------|-----------|-------------|\n",
    "| 42101          | Carbon dioxide             | 7         | ppm         |\n",
    "| 42601          | Nitric oxide               | 8         | ppb         |\n",
    "| 42602          | Nitrogen dioxide           | 8         | ppb         |\n",
    "| 42603          | NOx                        | 8         | ppb         |\n",
    "| 42201          | Ozone                      | 8         | ppb         |\n",
    "| 61101          | Wind spd - scalar          | 12        | mph         |\n",
    "| 61103          | Wind speed - resultant     | 12        | mph         |\n",
    "| 61104          | Wind direction - resultant | 14        | deg comp.   |\n",
    "| 61106          | Std. dev hz wind direction | 14        | deg comp.   |\n",
    "| 62101          | Outdoor temperature        | 15        | Deg. F      |\n",
    "| 62103          | Dew point                  | 15        | Deg. F      |\n",
    "| 62201          | Humidity                   | 19        | % rel. hum  |\n",
    "| 63301          | Solar radiation            | 25        | Lang/minute |\n",
    "| 64101          | Barometric pressure        | 16        | Millibars   |"
   ]
  },
  {
   "cell_type": "code",
   "execution_count": 58,
   "metadata": {},
   "outputs": [],
   "source": [
    "parameter_map = {\n",
    "    42101: 'carbon_dioxide',\n",
    "    42601: 'nitric_oxide',\n",
    "    42602: 'nitrogen_dioxide',\n",
    "    42603: 'nox',\n",
    "    44201: 'ozone',\n",
    "    61101: 'wind_spd_scalar',\n",
    "    61103: 'wind_spd_resultant',\n",
    "    61104: 'wind_dir_resultant',\n",
    "    61106: 'std_dev_wind_dir',\n",
    "    62101: 'outdoor_tmp',\n",
    "    62103: 'dew_point',\n",
    "    62201: 'humidity',\n",
    "    63301: 'solar_radiation',\n",
    "    64101: 'barometric_pressure'\n",
    "}\n",
    "\n",
    "all_dataframes = {}\n",
    "\n",
    "for parameter_code, parameter_name in parameter_map.iteritems():\n",
    "    all_dataframes[parameter_name] = df1.loc[df1['Parameter Cd'] == parameter_code]"
   ]
  },
  {
   "cell_type": "code",
   "execution_count": 77,
   "metadata": {},
   "outputs": [
    {
     "data": {
      "text/html": [
       "<div>\n",
       "<style>\n",
       "    .dataframe thead tr:only-child th {\n",
       "        text-align: right;\n",
       "    }\n",
       "\n",
       "    .dataframe thead th {\n",
       "        text-align: left;\n",
       "    }\n",
       "\n",
       "    .dataframe tbody tr th {\n",
       "        vertical-align: top;\n",
       "    }\n",
       "</style>\n",
       "<table border=\"1\" class=\"dataframe\">\n",
       "  <thead>\n",
       "    <tr style=\"text-align: right;\">\n",
       "      <th></th>\n",
       "      <th>State Cd</th>\n",
       "      <th>County Cd</th>\n",
       "      <th>Site ID</th>\n",
       "      <th>Parameter Cd</th>\n",
       "      <th>POC</th>\n",
       "      <th>Dur Cd</th>\n",
       "      <th>Unit Cd</th>\n",
       "      <th>Meth Cd</th>\n",
       "      <th>Value</th>\n",
       "    </tr>\n",
       "  </thead>\n",
       "  <tbody>\n",
       "    <tr>\n",
       "      <th>count</th>\n",
       "      <td>25466.0</td>\n",
       "      <td>25466.0</td>\n",
       "      <td>25466.0</td>\n",
       "      <td>25466.0</td>\n",
       "      <td>25466.0</td>\n",
       "      <td>25466.0</td>\n",
       "      <td>25466.0</td>\n",
       "      <td>25466.0</td>\n",
       "      <td>25466.000000</td>\n",
       "    </tr>\n",
       "    <tr>\n",
       "      <th>mean</th>\n",
       "      <td>48.0</td>\n",
       "      <td>201.0</td>\n",
       "      <td>416.0</td>\n",
       "      <td>44201.0</td>\n",
       "      <td>1.0</td>\n",
       "      <td>1.0</td>\n",
       "      <td>8.0</td>\n",
       "      <td>47.0</td>\n",
       "      <td>22.452716</td>\n",
       "    </tr>\n",
       "    <tr>\n",
       "      <th>std</th>\n",
       "      <td>0.0</td>\n",
       "      <td>0.0</td>\n",
       "      <td>0.0</td>\n",
       "      <td>0.0</td>\n",
       "      <td>0.0</td>\n",
       "      <td>0.0</td>\n",
       "      <td>0.0</td>\n",
       "      <td>0.0</td>\n",
       "      <td>15.574847</td>\n",
       "    </tr>\n",
       "    <tr>\n",
       "      <th>min</th>\n",
       "      <td>48.0</td>\n",
       "      <td>201.0</td>\n",
       "      <td>416.0</td>\n",
       "      <td>44201.0</td>\n",
       "      <td>1.0</td>\n",
       "      <td>1.0</td>\n",
       "      <td>8.0</td>\n",
       "      <td>47.0</td>\n",
       "      <td>-4.847680</td>\n",
       "    </tr>\n",
       "    <tr>\n",
       "      <th>25%</th>\n",
       "      <td>48.0</td>\n",
       "      <td>201.0</td>\n",
       "      <td>416.0</td>\n",
       "      <td>44201.0</td>\n",
       "      <td>1.0</td>\n",
       "      <td>1.0</td>\n",
       "      <td>8.0</td>\n",
       "      <td>47.0</td>\n",
       "      <td>10.815050</td>\n",
       "    </tr>\n",
       "    <tr>\n",
       "      <th>50%</th>\n",
       "      <td>48.0</td>\n",
       "      <td>201.0</td>\n",
       "      <td>416.0</td>\n",
       "      <td>44201.0</td>\n",
       "      <td>1.0</td>\n",
       "      <td>1.0</td>\n",
       "      <td>8.0</td>\n",
       "      <td>47.0</td>\n",
       "      <td>20.593750</td>\n",
       "    </tr>\n",
       "    <tr>\n",
       "      <th>75%</th>\n",
       "      <td>48.0</td>\n",
       "      <td>201.0</td>\n",
       "      <td>416.0</td>\n",
       "      <td>44201.0</td>\n",
       "      <td>1.0</td>\n",
       "      <td>1.0</td>\n",
       "      <td>8.0</td>\n",
       "      <td>47.0</td>\n",
       "      <td>31.504375</td>\n",
       "    </tr>\n",
       "    <tr>\n",
       "      <th>max</th>\n",
       "      <td>48.0</td>\n",
       "      <td>201.0</td>\n",
       "      <td>416.0</td>\n",
       "      <td>44201.0</td>\n",
       "      <td>1.0</td>\n",
       "      <td>1.0</td>\n",
       "      <td>8.0</td>\n",
       "      <td>47.0</td>\n",
       "      <td>135.502000</td>\n",
       "    </tr>\n",
       "  </tbody>\n",
       "</table>\n",
       "</div>"
      ],
      "text/plain": [
       "       State Cd  County Cd  Site ID  Parameter Cd      POC   Dur Cd  Unit Cd  \\\n",
       "count   25466.0    25466.0  25466.0       25466.0  25466.0  25466.0  25466.0   \n",
       "mean       48.0      201.0    416.0       44201.0      1.0      1.0      8.0   \n",
       "std         0.0        0.0      0.0           0.0      0.0      0.0      0.0   \n",
       "min        48.0      201.0    416.0       44201.0      1.0      1.0      8.0   \n",
       "25%        48.0      201.0    416.0       44201.0      1.0      1.0      8.0   \n",
       "50%        48.0      201.0    416.0       44201.0      1.0      1.0      8.0   \n",
       "75%        48.0      201.0    416.0       44201.0      1.0      1.0      8.0   \n",
       "max        48.0      201.0    416.0       44201.0      1.0      1.0      8.0   \n",
       "\n",
       "       Meth Cd         Value  \n",
       "count  25466.0  25466.000000  \n",
       "mean      47.0     22.452716  \n",
       "std        0.0     15.574847  \n",
       "min       47.0     -4.847680  \n",
       "25%       47.0     10.815050  \n",
       "50%       47.0     20.593750  \n",
       "75%       47.0     31.504375  \n",
       "max       47.0    135.502000  "
      ]
     },
     "execution_count": 77,
     "metadata": {},
     "output_type": "execute_result"
    }
   ],
   "source": [
    "all_dataframes['ozone'].describe()"
   ]
  },
  {
   "cell_type": "code",
   "execution_count": 150,
   "metadata": {},
   "outputs": [
    {
     "data": {
      "text/plain": [
       "<matplotlib.axes._subplots.AxesSubplot at 0x12a30f3d0>"
      ]
     },
     "execution_count": 150,
     "metadata": {},
     "output_type": "execute_result"
    },
    {
     "data": {
      "image/png": "[encoded data removed]",
      "text/plain": [
       "<matplotlib.figure.Figure at 0x12a8742d0>"
      ]
     },
     "metadata": {},
     "output_type": "display_data"
    }
   ],
   "source": [
    "all_dataframes['ozone'].Value.plot()"
   ]
  },
  {
   "cell_type": "code",
   "execution_count": 78,
   "metadata": {},
   "outputs": [
    {
     "data": {
      "text/html": [
       "<div>\n",
       "<style>\n",
       "    .dataframe thead tr:only-child th {\n",
       "        text-align: right;\n",
       "    }\n",
       "\n",
       "    .dataframe thead th {\n",
       "        text-align: left;\n",
       "    }\n",
       "\n",
       "    .dataframe tbody tr th {\n",
       "        vertical-align: top;\n",
       "    }\n",
       "</style>\n",
       "<table border=\"1\" class=\"dataframe\">\n",
       "  <thead>\n",
       "    <tr style=\"text-align: right;\">\n",
       "      <th></th>\n",
       "      <th>Datetime</th>\n",
       "      <th>Transaction Type</th>\n",
       "      <th>Action</th>\n",
       "      <th>State Cd</th>\n",
       "      <th>County Cd</th>\n",
       "      <th>Site ID</th>\n",
       "      <th>Parameter Cd</th>\n",
       "      <th>POC</th>\n",
       "      <th>Dur Cd</th>\n",
       "      <th>Unit Cd</th>\n",
       "      <th>Meth Cd</th>\n",
       "      <th>Value</th>\n",
       "    </tr>\n",
       "    <tr>\n",
       "      <th>Datetime</th>\n",
       "      <th></th>\n",
       "      <th></th>\n",
       "      <th></th>\n",
       "      <th></th>\n",
       "      <th></th>\n",
       "      <th></th>\n",
       "      <th></th>\n",
       "      <th></th>\n",
       "      <th></th>\n",
       "      <th></th>\n",
       "      <th></th>\n",
       "      <th></th>\n",
       "    </tr>\n",
       "  </thead>\n",
       "  <tbody>\n",
       "    <tr>\n",
       "      <th>2014-01-01 00:00:00</th>\n",
       "      <td>2014-01-01 00:00:00</td>\n",
       "      <td>RD</td>\n",
       "      <td>I</td>\n",
       "      <td>48</td>\n",
       "      <td>201</td>\n",
       "      <td>416</td>\n",
       "      <td>44201</td>\n",
       "      <td>1</td>\n",
       "      <td>1</td>\n",
       "      <td>8</td>\n",
       "      <td>47</td>\n",
       "      <td>6.79122</td>\n",
       "    </tr>\n",
       "    <tr>\n",
       "      <th>2014-01-01 01:00:00</th>\n",
       "      <td>2014-01-01 01:00:00</td>\n",
       "      <td>RD</td>\n",
       "      <td>I</td>\n",
       "      <td>48</td>\n",
       "      <td>201</td>\n",
       "      <td>416</td>\n",
       "      <td>44201</td>\n",
       "      <td>1</td>\n",
       "      <td>1</td>\n",
       "      <td>8</td>\n",
       "      <td>47</td>\n",
       "      <td>6.61058</td>\n",
       "    </tr>\n",
       "    <tr>\n",
       "      <th>2014-01-01 02:00:00</th>\n",
       "      <td>2014-01-01 02:00:00</td>\n",
       "      <td>RD</td>\n",
       "      <td>I</td>\n",
       "      <td>48</td>\n",
       "      <td>201</td>\n",
       "      <td>416</td>\n",
       "      <td>44201</td>\n",
       "      <td>1</td>\n",
       "      <td>1</td>\n",
       "      <td>8</td>\n",
       "      <td>47</td>\n",
       "      <td>5.36760</td>\n",
       "    </tr>\n",
       "    <tr>\n",
       "      <th>2014-01-01 03:00:00</th>\n",
       "      <td>2014-01-01 03:00:00</td>\n",
       "      <td>RD</td>\n",
       "      <td>I</td>\n",
       "      <td>48</td>\n",
       "      <td>201</td>\n",
       "      <td>416</td>\n",
       "      <td>44201</td>\n",
       "      <td>1</td>\n",
       "      <td>1</td>\n",
       "      <td>8</td>\n",
       "      <td>47</td>\n",
       "      <td>3.30744</td>\n",
       "    </tr>\n",
       "    <tr>\n",
       "      <th>2014-01-01 04:00:00</th>\n",
       "      <td>2014-01-01 04:00:00</td>\n",
       "      <td>RD</td>\n",
       "      <td>I</td>\n",
       "      <td>48</td>\n",
       "      <td>201</td>\n",
       "      <td>416</td>\n",
       "      <td>44201</td>\n",
       "      <td>1</td>\n",
       "      <td>1</td>\n",
       "      <td>8</td>\n",
       "      <td>47</td>\n",
       "      <td>2.86874</td>\n",
       "    </tr>\n",
       "  </tbody>\n",
       "</table>\n",
       "</div>"
      ],
      "text/plain": [
       "                               Datetime Transaction Type Action  State Cd  \\\n",
       "Datetime                                                                    \n",
       "2014-01-01 00:00:00 2014-01-01 00:00:00               RD      I        48   \n",
       "2014-01-01 01:00:00 2014-01-01 01:00:00               RD      I        48   \n",
       "2014-01-01 02:00:00 2014-01-01 02:00:00               RD      I        48   \n",
       "2014-01-01 03:00:00 2014-01-01 03:00:00               RD      I        48   \n",
       "2014-01-01 04:00:00 2014-01-01 04:00:00               RD      I        48   \n",
       "\n",
       "                     County Cd  Site ID  Parameter Cd  POC  Dur Cd  Unit Cd  \\\n",
       "Datetime                                                                      \n",
       "2014-01-01 00:00:00        201      416         44201    1       1        8   \n",
       "2014-01-01 01:00:00        201      416         44201    1       1        8   \n",
       "2014-01-01 02:00:00        201      416         44201    1       1        8   \n",
       "2014-01-01 03:00:00        201      416         44201    1       1        8   \n",
       "2014-01-01 04:00:00        201      416         44201    1       1        8   \n",
       "\n",
       "                     Meth Cd    Value  \n",
       "Datetime                               \n",
       "2014-01-01 00:00:00       47  6.79122  \n",
       "2014-01-01 01:00:00       47  6.61058  \n",
       "2014-01-01 02:00:00       47  5.36760  \n",
       "2014-01-01 03:00:00       47  3.30744  \n",
       "2014-01-01 04:00:00       47  2.86874  "
      ]
     },
     "execution_count": 78,
     "metadata": {},
     "output_type": "execute_result"
    }
   ],
   "source": [
    "ozone_df.index = ozone_df.Datetime\n",
    "ozone_df.sort_index(inplace=True)\n",
    "ozone_df.head()"
   ]
  },
  {
   "cell_type": "code",
   "execution_count": 92,
   "metadata": {},
   "outputs": [],
   "source": [
    "ozone_df['doy'] = ozone_df.index.dayofyear"
   ]
  },
  {
   "cell_type": "code",
   "execution_count": 159,
   "metadata": {},
   "outputs": [
    {
     "data": {
      "text/plain": [
       "<matplotlib.axes._subplots.AxesSubplot at 0x123f12290>"
      ]
     },
     "execution_count": 159,
     "metadata": {},
     "output_type": "execute_result"
    },
    {
     "data": {
      "image/png": "[encoded data removed]",
      "text/plain": [
       "<matplotlib.figure.Figure at 0x128be8f50>"
      ]
     },
     "metadata": {},
     "output_type": "display_data"
    }
   ],
   "source": [
    "annual_mean = ozone_df.groupby('doy').Value.mean()\n",
    "annual_mean.plot()"
   ]
  },
  {
   "cell_type": "code",
   "execution_count": 93,
   "metadata": {},
   "outputs": [
    {
     "data": {
      "text/plain": [
       "count    25466.000000\n",
       "mean        11.432027\n",
       "std          6.907731\n",
       "min          0.000000\n",
       "25%          5.000000\n",
       "50%         11.000000\n",
       "75%         17.000000\n",
       "max         23.000000\n",
       "Name: hour, dtype: float64"
      ]
     },
     "execution_count": 93,
     "metadata": {},
     "output_type": "execute_result"
    }
   ],
   "source": [
    "ozone_df['hour'] = ozone_df.index.hour\n",
    "ozone_df.hour.describe()"
   ]
  },
  {
   "cell_type": "code",
   "execution_count": 147,
   "metadata": {},
   "outputs": [
    {
     "data": {
      "text/plain": [
       "<matplotlib.axes._subplots.AxesSubplot at 0x12989ea50>"
      ]
     },
     "execution_count": 147,
     "metadata": {},
     "output_type": "execute_result"
    },
    {
     "data": {
      "image/png": "[encoded data removed]",
      "text/plain": [
       "<matplotlib.figure.Figure at 0x12a13add0>"
      ]
     },
     "metadata": {},
     "output_type": "display_data"
    }
   ],
   "source": [
    "hourly_mean = ozone_df.groupby('hour').Value.mean()\n",
    "hourly_mean.plot()"
   ]
  },
  {
   "cell_type": "code",
   "execution_count": 161,
   "metadata": {},
   "outputs": [],
   "source": [
    "parameter_map = {\n",
    "    42101: 'carbon_dioxide',\n",
    "    42601: 'nitric_oxide',\n",
    "    42602: 'nitrogen_dioxide',\n",
    "    42603: 'nox',\n",
    "    44201: 'ozone',\n",
    "    61101: 'wind_spd_scalar',\n",
    "    61103: 'wind_spd_resultant',\n",
    "    61104: 'wind_dir_resultant',\n",
    "    61106: 'std_dev_wind_dir',\n",
    "    62101: 'outdoor_tmp',\n",
    "    62103: 'dew_point',\n",
    "    62201: 'humidity',\n",
    "    63301: 'solar_radiation',\n",
    "    64101: 'barometric_pressure'\n",
    "}\n",
    "\n",
    "\n",
    "def read_data(filename):\n",
    "    df1 = pd.read_csv(filename, skiprows=10, sep='|', usecols=range(13), parse_dates={\"Datetime\" : [10,11]})\n",
    "    \n",
    "    all_dataframes = {}\n",
    "\n",
    "    for parameter_code, parameter_name in parameter_map.iteritems():\n",
    "        # Get all data for parameter code\n",
    "        param_df = df1.loc[df1['Parameter Cd'] == parameter_code]\n",
    "        param_df.index = param_df.Datetime\n",
    "        param_df.sort_index(inplace=True)\n",
    "        \n",
    "        # Set helper fields for datetime breakdowns\n",
    "        param_df['doy'] = param_df.index.dayofyear\n",
    "        param_df['hour'] = param_df.index.hour\n",
    "        param_df['woy'] = param_df.index.weekofyear\n",
    "        param_df['month'] = param_df.index.month\n",
    "        param_df['day'] = param_df.index.weekday\n",
    "        \n",
    "        # Create extra helper fields\n",
    "        param_mean = param_df.groupby('woy').Value.mean()\n",
    "        param_df['annual_mean'] = param_mean[param_df.woy].values\n",
    "        param_df['detrend'] = param_df.Value - param_df.annual_mean\n",
    "        all_dataframes[parameter_name] = param_df\n",
    "    \n",
    "    return all_dataframes\n",
    "    "
   ]
  },
  {
   "cell_type": "code",
   "execution_count": 167,
   "metadata": {},
   "outputs": [],
   "source": [
    "all_data = read_data(\"../data/338120170929155414557.txt\")"
   ]
  },
  {
   "cell_type": "code",
   "execution_count": 197,
   "metadata": {},
   "outputs": [],
   "source": [
    "def plot_means(fields, group):\n",
    "    for field in fields:\n",
    "        plt.plot(all_data[field].groupby(group).Value.mean())\n",
    "    plt.legend(fields)\n",
    "    plt.show()"
   ]
  },
  {
   "cell_type": "code",
   "execution_count": 1,
   "metadata": {},
   "outputs": [
    {
     "ename": "NameError",
     "evalue": "name 'plot_means' is not defined",
     "output_type": "error",
     "traceback": [
      "\u001b[0;31m---------------------------------------------------------------------------\u001b[0m",
      "\u001b[0;31mNameError\u001b[0m                                 Traceback (most recent call last)",
      "\u001b[0;32m<ipython-input-1-31b089ccf40c>\u001b[0m in \u001b[0;36m<module>\u001b[0;34m()\u001b[0m\n\u001b[0;32m----> 1\u001b[0;31m \u001b[0mplot_means\u001b[0m\u001b[0;34m(\u001b[0m\u001b[0;34m[\u001b[0m\u001b[0;34m'nox'\u001b[0m\u001b[0;34m,\u001b[0m \u001b[0;34m'ozone'\u001b[0m\u001b[0;34m,\u001b[0m\u001b[0;34m'solar_radiation'\u001b[0m\u001b[0;34m]\u001b[0m\u001b[0;34m,\u001b[0m \u001b[0;34m'hour'\u001b[0m\u001b[0;34m)\u001b[0m\u001b[0;34m\u001b[0m\u001b[0m\n\u001b[0m",
      "\u001b[0;31mNameError\u001b[0m: name 'plot_means' is not defined"
     ]
    }
   ],
   "source": [
    "plot_means(['nox', 'ozone','solar_radiation'], 'hour')"
   ]
  },
  {
   "cell_type": "code",
   "execution_count": 168,
   "metadata": {},
   "outputs": [
    {
     "data": {
      "image/png": "[encoded data removed]",
      "text/plain": [
       "<matplotlib.figure.Figure at 0x12313b550>"
      ]
     },
     "metadata": {},
     "output_type": "display_data"
    }
   ],
   "source": [
    "ozone_mean = all_data['ozone'].groupby('day').Value.mean()\n",
    "nox_mean = all_data['nox'].groupby('day').Value.mean()\n",
    "ozone_, = plt.plot(ozone_mean, label='Ozone Conc. (ppb)')\n",
    "nox_, = plt.plot(nox_mean, label='Ozone Conc. (ppb)')\n",
    "plt.legend(handles=[ozone_, nox_])\n",
    "plt.show()"
   ]
  },
  {
   "cell_type": "code",
   "execution_count": 169,
   "metadata": {},
   "outputs": [
    {
     "data": {
      "text/plain": [
       "<matplotlib.axes._subplots.AxesSubplot at 0x121d804d0>"
      ]
     },
     "execution_count": 169,
     "metadata": {},
     "output_type": "execute_result"
    },
    {
     "data": {
      "image/png": "[encoded data removed]",
      "text/plain": [
       "<matplotlib.figure.Figure at 0x124763d10>"
      ]
     },
     "metadata": {},
     "output_type": "display_data"
    }
   ],
   "source": [
    "all_data['outdoor_tmp'].Value.plot()"
   ]
  },
  {
   "cell_type": "code",
   "execution_count": 170,
   "metadata": {},
   "outputs": [
    {
     "data": {
      "text/plain": [
       "<matplotlib.axes._subplots.AxesSubplot at 0x1256207d0>"
      ]
     },
     "execution_count": 170,
     "metadata": {},
     "output_type": "execute_result"
    },
    {
     "data": {
      "image/png": "[encoded data removed]",
      "text/plain": [
       "<matplotlib.figure.Figure at 0x12b509950>"
      ]
     },
     "metadata": {},
     "output_type": "display_data"
    }
   ],
   "source": [
    "all_data['nox'].annual_mean.plot()"
   ]
  },
  {
   "cell_type": "code",
   "execution_count": 172,
   "metadata": {},
   "outputs": [
    {
     "data": {
      "text/plain": [
       "<matplotlib.axes._subplots.AxesSubplot at 0x1267bca90>"
      ]
     },
     "execution_count": 172,
     "metadata": {},
     "output_type": "execute_result"
    },
    {
     "data": {
      "image/png": "[encoded data removed]",
      "text/plain": [
       "<matplotlib.figure.Figure at 0x123e3b0d0>"
      ]
     },
     "metadata": {},
     "output_type": "display_data"
    }
   ],
   "source": [
    "all_data['ozone'].detrend.plot()"
   ]
  },
  {
   "cell_type": "code",
   "execution_count": 183,
   "metadata": {},
   "outputs": [],
   "source": [
    "def correlation(field_1, field_2):\n",
    "    return all_data[field_1].detrend.corr(all_data[field_2].detrend)"
   ]
  },
  {
   "cell_type": "code",
   "execution_count": 186,
   "metadata": {},
   "outputs": [
    {
     "data": {
      "text/plain": [
       "0.5440505868450517"
      ]
     },
     "execution_count": 186,
     "metadata": {},
     "output_type": "execute_result"
    }
   ],
   "source": [
    "correlation('ozone', 'solar_radiation')"
   ]
  },
  {
   "cell_type": "code",
   "execution_count": null,
   "metadata": {},
   "outputs": [],
   "source": []
  }
 ],
 "metadata": {
  "kernelspec": {
   "display_name": "Python 2",
   "language": "python",
   "name": "python2"
  },
  "language_info": {
   "codemirror_mode": {
    "name": "ipython",
    "version": 2
   },
   "file_extension": ".py",
   "mimetype": "text/x-python",
   "name": "python",
   "nbconvert_exporter": "python",
   "pygments_lexer": "ipython2",
   "version": "2.7.13"
  }
 },
 "nbformat": 4,
 "nbformat_minor": 2
}
